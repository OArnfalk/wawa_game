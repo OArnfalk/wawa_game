{
 "cells": [
  {
   "cell_type": "markdown",
   "id": "db23d87c",
   "metadata": {},
   "source": [
    "# WAWA game\n",
    "\n",
    "## This is script is based on a card game I used to play with my grand parents"
   ]
  },
  {
   "cell_type": "markdown",
   "id": "fb453e7b",
   "metadata": {},
   "source": [
    "## Setup"
   ]
  },
  {
   "cell_type": "code",
   "execution_count": 47,
   "id": "ea6b200a",
   "metadata": {},
   "outputs": [],
   "source": [
    "import enchant\n",
    "import random"
   ]
  },
  {
   "cell_type": "code",
   "execution_count": 48,
   "id": "c2807b1f",
   "metadata": {},
   "outputs": [],
   "source": [
    "def check_if_word(word, d):\n",
    "    return d.check(word)\n",
    "    "
   ]
  },
  {
   "cell_type": "code",
   "execution_count": 49,
   "id": "c8a7ae24",
   "metadata": {},
   "outputs": [],
   "source": [
    "class Node:\n",
    "    def __init__(self, player, cards=None, score = 0):\n",
    "        self.player = player\n",
    "        self.cards = cards\n",
    "        self.nextplayer = None\n",
    "        self.score = score\n",
    "\n",
    "class LinkedList:\n",
    "    def __init__(self):\n",
    "        self.curr_player = None"
   ]
  },
  {
   "cell_type": "code",
   "execution_count": 50,
   "id": "7870d7de",
   "metadata": {},
   "outputs": [],
   "source": [
    "def new_deck():\n",
    "    \n",
    "    deck = []\n",
    "        \n",
    "    for i in range(12):\n",
    "        deck.append((\"E\",10))\n",
    "        \n",
    "    for i in range(9):\n",
    "        deck.append((\"A\", 10))\n",
    "        deck.append((\"I\", 10))\n",
    "        \n",
    "    for i in range(8):\n",
    "        deck.append((\"O\", 8))\n",
    "        \n",
    "    for i in range(6):\n",
    "        deck.append((\"N\", 6))\n",
    "        deck.append((\"R\", 6))\n",
    "        deck.append((\"T\", 6))\n",
    "        deck.append((\"S\", 7))\n",
    "\n",
    "    for i in range(4):\n",
    "        deck.append((\"L\", 5))\n",
    "        deck.append((\"U\", 4))\n",
    "        deck.append((\"D\", 5))\n",
    "        \n",
    "    for i in range(3):\n",
    "        deck.append((\"G\", 3))\n",
    "    \n",
    "    for i in range(2):\n",
    "        deck.append((\"C\", 2))\n",
    "        deck.append((\"M\", 2))\n",
    "        deck.append((\"P\", 2))\n",
    "        deck.append((\"F\", 2))        \n",
    "        deck.append((\"V\", 2))\n",
    "        deck.append((\"H\", 2))\n",
    "        deck.append((\"W\", 2))\n",
    "        deck.append((\"Y\", 2))\n",
    "    \n",
    "    deck.append((\"K\", 1))\n",
    "    deck.append((\"J\", 1))\n",
    "    deck.append((\"X\", 1))\n",
    "    deck.append((\"Q\", 1))\n",
    "    deck.append((\"Z\", 1))\n",
    "\n",
    "    \n",
    "    random.shuffle(deck)\n",
    "    return deck"
   ]
  },
  {
   "cell_type": "code",
   "execution_count": 51,
   "id": "dc5e1c23",
   "metadata": {},
   "outputs": [],
   "source": [
    "def dealcards(nbr_cards, deck):\n",
    "    if(nbr_cards > len(deck)):\n",
    "        deck.append(new_deck)\n",
    "        \n",
    "    dealt_cards = deck[:nbr_cards]\n",
    "    deck = deck[nbr_cards +1:]\n",
    "    return dealt_cards, deck"
   ]
  },
  {
   "cell_type": "markdown",
   "id": "00962a04",
   "metadata": {},
   "source": [
    "## Game"
   ]
  },
  {
   "cell_type": "code",
   "execution_count": 62,
   "id": "c818cdb2",
   "metadata": {},
   "outputs": [
    {
     "name": "stdout",
     "output_type": "stream",
     "text": [
      "\n",
      "\n",
      "Anna's turn\n",
      "Top card: N\n",
      "[('A', 10), ('P', 2), ('A', 10), ('D', 5), ('Y', 2), ('D', 5), ('L', 5), ('R', 6), ('I', 10)]\n",
      "Enter word: \n",
      "Top card: N\n",
      "[('A', 10), ('P', 2), ('A', 10), ('D', 5), ('Y', 2), ('D', 5), ('L', 5), ('R', 6), ('I', 10), ('A', 10)]\n",
      "Enter word: \n",
      "Top card: N\n",
      "[('A', 10), ('P', 2), ('A', 10), ('D', 5), ('Y', 2), ('D', 5), ('L', 5), ('R', 6), ('I', 10), ('A', 10), ('O', 8)]\n",
      "Enter word: \n",
      "Top card: N\n",
      "[('A', 10), ('P', 2), ('A', 10), ('D', 5), ('Y', 2), ('D', 5), ('L', 5), ('R', 6), ('I', 10), ('A', 10), ('O', 8), ('T', 6)]\n",
      "Enter word: \n",
      "\n",
      "\n",
      "Bob's turn\n",
      "Top card: N\n",
      "[('O', 8), ('G', 3), ('E', 10), ('A', 10), ('T', 6), ('E', 10), ('G', 3), ('P', 2), ('U', 4)]\n",
      "Enter word: NEAT\n",
      "valid word\n",
      "\n",
      "\n",
      "Clara's turn\n",
      "Top card: T\n",
      "[('W', 2), ('S', 7), ('T', 6), ('V', 2), ('I', 10), ('K', 1), ('S', 7), ('I', 10), ('M', 2)]\n"
     ]
    },
    {
     "ename": "KeyboardInterrupt",
     "evalue": "Interrupted by user",
     "output_type": "error",
     "traceback": [
      "\u001b[0;31m---------------------------------------------------------------------------\u001b[0m",
      "\u001b[0;31mKeyboardInterrupt\u001b[0m                         Traceback (most recent call last)",
      "\u001b[0;32m<ipython-input-62-54e50eabf02c>\u001b[0m in \u001b[0;36m<module>\u001b[0;34m\u001b[0m\n\u001b[1;32m     44\u001b[0m         \u001b[0mprint\u001b[0m\u001b[0;34m(\u001b[0m\u001b[0mgame\u001b[0m\u001b[0;34m.\u001b[0m\u001b[0mcurr_player\u001b[0m\u001b[0;34m.\u001b[0m\u001b[0mcards\u001b[0m\u001b[0;34m)\u001b[0m\u001b[0;34m\u001b[0m\u001b[0;34m\u001b[0m\u001b[0m\n\u001b[1;32m     45\u001b[0m \u001b[0;34m\u001b[0m\u001b[0m\n\u001b[0;32m---> 46\u001b[0;31m         \u001b[0mword\u001b[0m \u001b[0;34m=\u001b[0m \u001b[0minput\u001b[0m\u001b[0;34m(\u001b[0m\u001b[0;34m\"Enter word: \"\u001b[0m\u001b[0;34m)\u001b[0m\u001b[0;34m\u001b[0m\u001b[0;34m\u001b[0m\u001b[0m\n\u001b[0m\u001b[1;32m     47\u001b[0m \u001b[0;34m\u001b[0m\u001b[0m\n\u001b[1;32m     48\u001b[0m         \u001b[0;32mif\u001b[0m\u001b[0;34m(\u001b[0m\u001b[0mlen\u001b[0m\u001b[0;34m(\u001b[0m\u001b[0mword\u001b[0m\u001b[0;34m)\u001b[0m \u001b[0;34m==\u001b[0m \u001b[0;36m0\u001b[0m \u001b[0;32mand\u001b[0m \u001b[0mcards_taken\u001b[0m \u001b[0;34m<\u001b[0m \u001b[0;36m3\u001b[0m\u001b[0;34m)\u001b[0m\u001b[0;34m:\u001b[0m\u001b[0;34m\u001b[0m\u001b[0;34m\u001b[0m\u001b[0m\n",
      "\u001b[0;32m~/.virtualenvs/eon/lib/python3.8/site-packages/ipykernel/kernelbase.py\u001b[0m in \u001b[0;36mraw_input\u001b[0;34m(self, prompt)\u001b[0m\n\u001b[1;32m    846\u001b[0m                 \u001b[0;34m\"raw_input was called, but this frontend does not support input requests.\"\u001b[0m\u001b[0;34m\u001b[0m\u001b[0;34m\u001b[0m\u001b[0m\n\u001b[1;32m    847\u001b[0m             )\n\u001b[0;32m--> 848\u001b[0;31m         return self._input_request(str(prompt),\n\u001b[0m\u001b[1;32m    849\u001b[0m             \u001b[0mself\u001b[0m\u001b[0;34m.\u001b[0m\u001b[0m_parent_ident\u001b[0m\u001b[0;34m,\u001b[0m\u001b[0;34m\u001b[0m\u001b[0;34m\u001b[0m\u001b[0m\n\u001b[1;32m    850\u001b[0m             \u001b[0mself\u001b[0m\u001b[0;34m.\u001b[0m\u001b[0m_parent_header\u001b[0m\u001b[0;34m,\u001b[0m\u001b[0;34m\u001b[0m\u001b[0;34m\u001b[0m\u001b[0m\n",
      "\u001b[0;32m~/.virtualenvs/eon/lib/python3.8/site-packages/ipykernel/kernelbase.py\u001b[0m in \u001b[0;36m_input_request\u001b[0;34m(self, prompt, ident, parent, password)\u001b[0m\n\u001b[1;32m    890\u001b[0m             \u001b[0;32mexcept\u001b[0m \u001b[0mKeyboardInterrupt\u001b[0m\u001b[0;34m:\u001b[0m\u001b[0;34m\u001b[0m\u001b[0;34m\u001b[0m\u001b[0m\n\u001b[1;32m    891\u001b[0m                 \u001b[0;31m# re-raise KeyboardInterrupt, to truncate traceback\u001b[0m\u001b[0;34m\u001b[0m\u001b[0;34m\u001b[0m\u001b[0;34m\u001b[0m\u001b[0m\n\u001b[0;32m--> 892\u001b[0;31m                 \u001b[0;32mraise\u001b[0m \u001b[0mKeyboardInterrupt\u001b[0m\u001b[0;34m(\u001b[0m\u001b[0;34m\"Interrupted by user\"\u001b[0m\u001b[0;34m)\u001b[0m \u001b[0;32mfrom\u001b[0m \u001b[0;32mNone\u001b[0m\u001b[0;34m\u001b[0m\u001b[0;34m\u001b[0m\u001b[0m\n\u001b[0m\u001b[1;32m    893\u001b[0m             \u001b[0;32mexcept\u001b[0m \u001b[0mException\u001b[0m \u001b[0;32mas\u001b[0m \u001b[0me\u001b[0m\u001b[0;34m:\u001b[0m\u001b[0;34m\u001b[0m\u001b[0;34m\u001b[0m\u001b[0m\n\u001b[1;32m    894\u001b[0m                 \u001b[0mself\u001b[0m\u001b[0;34m.\u001b[0m\u001b[0mlog\u001b[0m\u001b[0;34m.\u001b[0m\u001b[0mwarning\u001b[0m\u001b[0;34m(\u001b[0m\u001b[0;34m\"Invalid Message:\"\u001b[0m\u001b[0;34m,\u001b[0m \u001b[0mexc_info\u001b[0m\u001b[0;34m=\u001b[0m\u001b[0;32mTrue\u001b[0m\u001b[0;34m)\u001b[0m\u001b[0;34m\u001b[0m\u001b[0;34m\u001b[0m\u001b[0m\n",
      "\u001b[0;31mKeyboardInterrupt\u001b[0m: Interrupted by user"
     ]
    }
   ],
   "source": [
    "won = False\n",
    "d = enchant.Dict(\"en_US\")\n",
    "\n",
    "\n",
    "# Who is playing?\n",
    "players = [\"Anna\", \"Bob\", \"Clara\"]\n",
    "\n",
    "# Initialize setup\n",
    "deck = new_deck()\n",
    "topcard, deck = dealcards(1, deck)\n",
    "\n",
    "game = LinkedList()\n",
    "cards, deck = dealcards(9, deck) \n",
    "game.curr_player = Node(players[0], cards)\n",
    "\n",
    "for i, p in enumerate(players):\n",
    "    \n",
    "    if i > 0:\n",
    "        cards, deck = dealcards(9, deck) \n",
    "        pi = Node(p, cards)\n",
    "        \n",
    "        if i == 1:\n",
    "            game.curr_player.nextplayer = pi\n",
    "            pb = pi\n",
    "        else:\n",
    "            pb.nextplayer = pi\n",
    "pi.nextplayer = game.curr_player\n",
    "\n",
    "\n",
    "\n",
    "while not won:\n",
    "    \n",
    "    # Initialize he turn of one person\n",
    "    turn_over = False\n",
    "    cards_taken = 0\n",
    "    print()\n",
    "    print()\n",
    "    print(str(game.curr_player.player) + \"'s turn\")\n",
    "    \n",
    "    # The turn \n",
    "    while not turn_over:\n",
    "        \n",
    "        print(str(\"Top card: \" + str(topcard[0][0])))\n",
    "        print(game.curr_player.cards)\n",
    "        \n",
    "        word = input(\"Enter word: \")\n",
    "        \n",
    "        if(len(word) == 0 and cards_taken < 3):\n",
    "            card, deck = dealcards(1, deck)\n",
    "            cards = (game.curr_player.cards).append(card[0])\n",
    "            cards.append(card[0])\n",
    "            game.curr_player.cards = cards\n",
    "            cards_taken += 1\n",
    "        elif(len(word) == 0 and cards_taken == 3):\n",
    "            turn_over = True\n",
    "        elif(check_if_word(word, d)):\n",
    "            word\n",
    "            print(\"valid word\")\n",
    "            turn_over = True\n",
    "            topcard = word[-1]\n",
    "        else:\n",
    "            print(\"invalid word\")\n",
    "            \n",
    "            \n",
    "            \n",
    "    if(len(game.curr_player.cards) == 0):\n",
    "        won = true\n",
    "        print(\"Player \" + str(game.curr_player.player) + \" wins!\")\n",
    "    \n",
    "    game.curr_player = game.curr_player.nextplayer"
   ]
  },
  {
   "cell_type": "code",
   "execution_count": 2,
   "id": "6f310d14",
   "metadata": {},
   "outputs": [],
   "source": [
    "import PySimpleGUI as sg\n"
   ]
  },
  {
   "cell_type": "code",
   "execution_count": 28,
   "id": "cf9383f4",
   "metadata": {},
   "outputs": [],
   "source": [
    "i = 1\n",
    "layout = [\n",
    "    [sg.Text('Name of player nbr 1', size =(15, 1)), sg.InputText()],\n",
    "    [sg.Text('Name of player nbr 2', size =(15, 1)), sg.InputText()]\n",
    "\n",
    "    #[sg.Text(\"Add another player\")], [sg.Button(\"\")]\n",
    "]\n",
    "\n",
    "# Create the window\n",
    "window = sg.Window(\"Wawa Game\", layout, margins=(200, 100))\n",
    "\n",
    "# Create an event loop\n",
    "while True:\n",
    "    event, values = window.read()\n",
    "    # End program if user closes window or\n",
    "    # presses the OK button\n",
    "    if event == \"OK\" or event == sg.WIN_CLOSED:\n",
    "        break\n",
    "\n",
    "window.close()"
   ]
  },
  {
   "cell_type": "code",
   "execution_count": 36,
   "id": "6832ed52",
   "metadata": {},
   "outputs": [],
   "source": [
    "\n",
    "    \n"
   ]
  },
  {
   "cell_type": "code",
   "execution_count": 37,
   "id": "21e2da15",
   "metadata": {},
   "outputs": [
    {
     "data": {
      "text/plain": [
       "[[<PySimpleGUI.PySimpleGUI.Button at 0x10b92dfa0>],\n",
       " [<PySimpleGUI.PySimpleGUI.Button at 0x10b92de80>],\n",
       " [<PySimpleGUI.PySimpleGUI.Button at 0x10b92df70>],\n",
       " [<PySimpleGUI.PySimpleGUI.Button at 0x10b92dd90>],\n",
       " [<PySimpleGUI.PySimpleGUI.Button at 0x10b92d3d0>],\n",
       " [<PySimpleGUI.PySimpleGUI.Button at 0x10b928fa0>],\n",
       " [<PySimpleGUI.PySimpleGUI.Button at 0x10b928c70>],\n",
       " [<PySimpleGUI.PySimpleGUI.Button at 0x10b928910>],\n",
       " [<PySimpleGUI.PySimpleGUI.Button at 0x10b928eb0>]]"
      ]
     },
     "execution_count": 37,
     "metadata": {},
     "output_type": "execute_result"
    }
   ],
   "source": [
    "l"
   ]
  },
  {
   "cell_type": "code",
   "execution_count": 23,
   "id": "88e3c0d1",
   "metadata": {},
   "outputs": [
    {
     "data": {
      "text/plain": [
       "[[<PySimpleGUI.PySimpleGUI.Text at 0x10b8b5c70>,\n",
       "  <PySimpleGUI.PySimpleGUI.Input at 0x10b8b5ca0>],\n",
       " [<PySimpleGUI.PySimpleGUI.Text at 0x10b8b5d60>,\n",
       "  <PySimpleGUI.PySimpleGUI.Input at 0x10b8b5df0>]]"
      ]
     },
     "execution_count": 23,
     "metadata": {},
     "output_type": "execute_result"
    }
   ],
   "source": [
    "layout"
   ]
  },
  {
   "cell_type": "code",
   "execution_count": 77,
   "id": "e8017f67",
   "metadata": {},
   "outputs": [],
   "source": [
    "cards = [('F', 2), ('W', 2), ('S', 7), ('A', 10), \n",
    "         ('U', 4), ('V', 2), ('L', 5), ('O', 8), ('A', 10)]\n",
    "\n",
    "l = []\n",
    "\n",
    "for card in cards:\n",
    "    l.append([sg.Button(str(card[0]), size =(2, 2))])\n",
    "\n",
    "window = sg.Window(\"Wawa Game\", layout = l, margins=(200, 100))\n",
    "\n",
    "# Create an event loop\n",
    "while True:\n",
    "    event, values = window.read()\n",
    "    # End program if user closes window or\n",
    "    # presses the OK button\n",
    "    if event == \"OK\" or event == sg.WIN_CLOSED:\n",
    "        break\n",
    "\n",
    "window.close()"
   ]
  }
 ],
 "metadata": {
  "kernelspec": {
   "display_name": "Python 3",
   "language": "python",
   "name": "python3"
  },
  "language_info": {
   "codemirror_mode": {
    "name": "ipython",
    "version": 3
   },
   "file_extension": ".py",
   "mimetype": "text/x-python",
   "name": "python",
   "nbconvert_exporter": "python",
   "pygments_lexer": "ipython3",
   "version": "3.8.3"
  }
 },
 "nbformat": 4,
 "nbformat_minor": 5
}
